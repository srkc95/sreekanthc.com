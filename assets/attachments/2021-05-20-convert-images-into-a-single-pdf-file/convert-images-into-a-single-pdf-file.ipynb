{
 "cells": [
  {
   "cell_type": "markdown",
   "id": "aggregate-bearing",
   "metadata": {},
   "source": [
    "# Convert images in to a single PDF file - [(Article)](https://sreekanthc.com/blog/blog/convert-images-into-a-single-pdf-file)\n",
    "\n",
    "Sometimes we need to convert figures to pdf and combine them into a single pdf file. We can use [Pillow](https://pypi.org/project/Pillow/) and [PyPDF2](https://pypi.org/project/PyPDF2/) for this task."
   ]
  },
  {
   "cell_type": "markdown",
   "id": "religious-monthly",
   "metadata": {},
   "source": [
    "[![Open In Colab](/assets/badges/colab.svg)](https://colab.research.google.com/github/srkc95/sreekanthc.com/blob/master/assets/attachments/2021-05-20-convert-images-into-a-single-pdf-file/convert-images-into-a-single-pdf-file.ipynb)\n",
    "[![Open In Github](/assets/badges/github.svg)](https://github.com/srkc95/sreekanthc.com/blob/master/assets/attachments/2021-05-20-convert-images-into-a-single-pdf-file/convert-images-into-a-single-pdf-file.ipynb)"
   ]
  },
  {
   "cell_type": "code",
   "execution_count": 1,
   "id": "overhead-fifty",
   "metadata": {},
   "outputs": [],
   "source": [
    "# Google Colab setup \n",
    "import os, sys, subprocess\n",
    "commands = [\"pip install PyPDF2\", \"pip install seedir\"]\n",
    "if \"google.colab\" in sys.modules:\n",
    "    for cmd in commands:\n",
    "        process = subprocess.Popen(cmd.split(), stdout=subprocess.PIPE)\n",
    "        for line in process.stdout:\n",
    "            print(line.decode().strip())"
   ]
  },
  {
   "cell_type": "code",
   "execution_count": 2,
   "id": "sixth-forum",
   "metadata": {},
   "outputs": [],
   "source": [
    "### Import necessary libraries and create required folders.\n",
    "import os\n",
    "import random\n",
    "import numpy as np\n",
    "import seedir as sd\n",
    "from PIL import Image\n",
    "import matplotlib.pyplot as plt\n",
    "from PyPDF2 import PdfFileMerger, PdfFileReader\n",
    "\n",
    "# Get current folder.\n",
    "cd = os.getcwd() \n",
    "root_fold = os.path.join(cd, \"combined-pdf\")\n",
    "if not os.path.exists(root_fold):\n",
    "    os.mkdir(root_fold)\n",
    "\n",
    "# Create folder to save figures.\n",
    "fig_fold = os.path.join(root_fold, \"fig\")\n",
    "if not os.path.exists(fig_fold):\n",
    "    os.mkdir(fig_fold)\n",
    "    \n",
    "# Create folder to save PDF files.\n",
    "pdf_fold = os.path.join(root_fold, \"pdf\")\n",
    "if not os.path.exists(pdf_fold):\n",
    "    os.mkdir(pdf_fold)"
   ]
  },
  {
   "cell_type": "code",
   "execution_count": 3,
   "id": "conservative-vision",
   "metadata": {},
   "outputs": [],
   "source": [
    "### Create random data using numpy and save to the figure folder.\n",
    "for i in range(1,5):\n",
    "    # plot figure.\n",
    "    plt.figure(figsize=(15,5))\n",
    "    plt.xlabel(\"time\", size=15)\n",
    "    plt.ylabel(\"data\", size=15)\n",
    "    plt.rcParams['figure.facecolor'] = 'white'\n",
    "    plt.suptitle(\"Signal \"+ str(i), size=20)\n",
    "    plt.plot(list(np.random.randint(low=-500, high=500, size=100)))\n",
    "    \n",
    "    # save figure.\n",
    "    fig_f = \"signal_\"+ str(i) + \".png\"\n",
    "    fig_fpath = os.path.join(fig_fold, fig_f)\n",
    "    plt.savefig(fig_fpath)\n",
    "    plt.close() "
   ]
  },
  {
   "cell_type": "code",
   "execution_count": 4,
   "id": "elegant-recorder",
   "metadata": {},
   "outputs": [],
   "source": [
    "### Get all files ending with a particular file extension. \n",
    "def lst_files(path,extension):\n",
    "    lst = []\n",
    "    for _, _, files in os.walk(path):\n",
    "        for file in files:\n",
    "            if(file.endswith(extension)):\n",
    "                lst.append(file)\n",
    "    return lst"
   ]
  },
  {
   "cell_type": "code",
   "execution_count": 5,
   "id": "embedded-macedonia",
   "metadata": {},
   "outputs": [],
   "source": [
    "### Convert each figure to pdf\n",
    "\n",
    "# Get list of png files.\n",
    "lst = lst_files(fig_fold, \"png\")\n",
    "\n",
    "for file in lst:\n",
    "    fig_fpath = os.path.join(fig_fold, file)\n",
    "    fig = Image.open(fig_fpath)\n",
    "    \n",
    "    # Check the file is in the 'RGBA' mode.\n",
    "    if fig.mode == \"RGBA\":\n",
    "        fig = fig.convert(\"RGB\")\n",
    "        \n",
    "    # Save PDF.\n",
    "    pdf_f = file[:-3] + \"pdf\"\n",
    "    pdf_fpath = os.path.join(pdf_fold, pdf_f)\n",
    "    fig.save(pdf_fpath,\"PDF\")\n",
    "    fig.close()"
   ]
  },
  {
   "cell_type": "code",
   "execution_count": 6,
   "id": "professional-rouge",
   "metadata": {},
   "outputs": [],
   "source": [
    "### Combine pdf files\n",
    "\n",
    "# Get list of PDF files.\n",
    "lst = lst_files(pdf_fold, \"pdf\")\n",
    "merger = PdfFileMerger()\n",
    "\n",
    "for file in lst:\n",
    "    pdf_fpath = os.path.join(pdf_fold, file)\n",
    "    merger.append(PdfFileReader(pdf_fpath, 'rb'))\n",
    "    \n",
    "# Save combined PDF.\n",
    "comb_fname = \"combined.pdf\"\n",
    "comb_fpath = os.path.join(root_fold, comb_fname)\n",
    "merger.write(comb_fpath)"
   ]
  },
  {
   "cell_type": "code",
   "execution_count": 8,
   "id": "strategic-compilation",
   "metadata": {},
   "outputs": [
    {
     "name": "stdout",
     "output_type": "stream",
     "text": [
      "All files are saved to this folder --> E:\\combined-pdf\n",
      " \n",
      "combined-pdf/\n",
      "├─combined.pdf\n",
      "├─fig/\n",
      "│ ├─signal_1.png\n",
      "│ ├─signal_2.png\n",
      "│ ├─signal_3.png\n",
      "│ └─signal_4.png\n",
      "└─pdf/\n",
      "  ├─signal_1.pdf\n",
      "  ├─signal_2.pdf\n",
      "  ├─signal_3.pdf\n",
      "  └─signal_4.pdf\n"
     ]
    }
   ],
   "source": [
    "### Display folder structure.\n",
    "\n",
    "print(\"All files are saved to this folder --> \" + root_fold + \"\\n\" + \" \" )\n",
    "os.chdir(root_fold)\n",
    "sd.seedir(style='lines', itemlimit=10, depthlimit=2, exclude_folders=['.git', '.config', 'sample_data'])"
   ]
  },
  {
   "cell_type": "markdown",
   "id": "hungarian-honor",
   "metadata": {},
   "source": [
    "#### References\n",
    "1. How to Convert Image to PDF in Python - CodeSpeedy [Internet]. CodeSpeedy. 2021 [cited 20 May 2021]. Available from: <https://www.codespeedy.com/how-to-convert-image-to-pdf-in-python/>\n",
    "2. How to append PDF pages using PyPDF2 [Internet]. Stack Overflow. 2021 [cited 20 May 2021]. Available from: <https://stackoverflow.com/a/29871560>"
   ]
  }
 ],
 "metadata": {
  "kernelspec": {
   "display_name": "Python 3",
   "language": "python",
   "name": "python3"
  },
  "language_info": {
   "codemirror_mode": {
    "name": "ipython",
    "version": 3
   },
   "file_extension": ".py",
   "mimetype": "text/x-python",
   "name": "python",
   "nbconvert_exporter": "python",
   "pygments_lexer": "ipython3",
   "version": "3.8.5"
  }
 },
 "nbformat": 4,
 "nbformat_minor": 5
}